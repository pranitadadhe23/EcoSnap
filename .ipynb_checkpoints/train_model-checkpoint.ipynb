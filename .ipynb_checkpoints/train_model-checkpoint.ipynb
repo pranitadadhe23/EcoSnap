{
 "cells": [
  {
   "cell_type": "code",
   "execution_count": null,
   "id": "e359e929-6447-4b7d-99ed-7b9b6c1b4ec7",
   "metadata": {},
   "outputs": [],
   "source": [
    "# train_model.ipynb\n",
    "\n",
    "# Step 1: Imports\n",
    "import tensorflow as tf\n",
    "from tensorflow.keras.applications.mobilenet_v2 import MobileNetV2, preprocess_input\n",
    "from tensorflow.keras.preprocessing.image import ImageDataGenerator\n",
    "from tensorflow.keras.models import Model\n",
    "from tensorflow.keras.layers import GlobalAveragePooling2D, Dense\n",
    "from tensorflow.keras.optimizers import Adam\n",
    "import os\n"
   ]
  },
  {
   "cell_type": "code",
   "execution_count": null,
   "id": "d3d4e166-12ad-4f8c-8cfe-326e1b83f8ef",
   "metadata": {},
   "outputs": [],
   "source": [
    "# Step 2: Data Configuration\n",
    "img_size = (224, 224)\n",
    "batch_size = 16\n",
    "data_dir = \"dataset\""
   ]
  },
  {
   "cell_type": "code",
   "execution_count": null,
   "id": "15217a86-c2c8-45cc-95fb-ebbd81530784",
   "metadata": {},
   "outputs": [],
   "source": [
    "# Step 3: Image Data Generator with Preprocessing\n",
    "datagen = ImageDataGenerator(\n",
    "    preprocessing_function=preprocess_input,\n",
    "    validation_split=0.2\n",
    ")\n",
    "\n",
    "train_gen = datagen.flow_from_directory(\n",
    "    data_dir,\n",
    "    target_size=img_size,\n",
    "    batch_size=batch_size,\n",
    "    class_mode=\"categorical\",\n",
    "    subset=\"training\"\n",
    ")\n",
    "\n",
    "val_gen = datagen.flow_from_directory(\n",
    "    data_dir,\n",
    "    target_size=img_size,\n",
    "    batch_size=batch_size,\n",
    "    class_mode=\"categorical\",\n",
    "    subset=\"validation\"\n",
    ")"
   ]
  },
  {
   "cell_type": "code",
   "execution_count": null,
   "id": "cff4cb21-dcb4-4628-915e-d994f5596ade",
   "metadata": {},
   "outputs": [],
   "source": [
    "# Step 4: Load MobileNetV2 Base Model\n",
    "base_model = MobileNetV2(weights=\"imagenet\", include_top=False, input_shape=(224, 224, 3))\n"
   ]
  },
  {
   "cell_type": "code",
   "execution_count": null,
   "id": "c39a5007-147f-40c4-a1ef-c31f0480b170",
   "metadata": {},
   "outputs": [],
   "source": [
    "# Step 5: Add Custom Layers\n",
    "x = base_model.output\n",
    "x = GlobalAveragePooling2D()(x)\n",
    "x = Dense(128, activation=\"relu\")(x)\n",
    "output = Dense(train_gen.num_classes, activation=\"softmax\")(x)\n",
    "model = Model(inputs=base_model.input, outputs=output)"
   ]
  },
  {
   "cell_type": "code",
   "execution_count": null,
   "id": "7c96ab57-1511-46c4-adc3-539c08cddf4d",
   "metadata": {},
   "outputs": [],
   "source": [
    "# Step 6: Freeze base model\n",
    "for layer in base_model.layers:\n",
    "    layer.trainable = False\n"
   ]
  },
  {
   "cell_type": "code",
   "execution_count": null,
   "id": "997f80b3-c435-4935-be78-77beea151e11",
   "metadata": {},
   "outputs": [],
   "source": [
    "# Step 7: Compile Model\n",
    "model.compile(optimizer=Adam(), loss=\"categorical_crossentropy\", metrics=[\"accuracy\"])\n"
   ]
  },
  {
   "cell_type": "code",
   "execution_count": null,
   "id": "8516aece-8dfe-4458-883e-0a5ddbe5caee",
   "metadata": {},
   "outputs": [],
   "source": [
    "# Step 8: Train Model\n",
    "model.fit(train_gen, validation_data=val_gen, epochs=5)"
   ]
  },
  {
   "cell_type": "code",
   "execution_count": null,
   "id": "29e42712-c71e-4a41-b5db-32c12a0ef90d",
   "metadata": {},
   "outputs": [],
   "source": [
    "# Step 9: Save Model\n",
    "os.makedirs(\"model\", exist_ok=True)\n",
    "model.save(\"model/food_model.h5\")"
   ]
  },
  {
   "cell_type": "code",
   "execution_count": null,
   "id": "c53b0f36-9d77-4054-9c3c-ab05c808ed31",
   "metadata": {},
   "outputs": [],
   "source": [
    "\n",
    "# Step 10: Save Class Names\n",
    "os.makedirs(\"data\", exist_ok=True)\n",
    "with open(\"data/class_names.txt\", \"w\") as f:\n",
    "    f.write(\"\\n\".join(train_gen.class_indices.keys()))\n",
    "\n",
    "print(\"✅ Training complete. Model and class names saved.\")"
   ]
  }
 ],
 "metadata": {
  "kernelspec": {
   "display_name": "Python [conda env:base] *",
   "language": "python",
   "name": "conda-base-py"
  },
  "language_info": {
   "codemirror_mode": {
    "name": "ipython",
    "version": 3
   },
   "file_extension": ".py",
   "mimetype": "text/x-python",
   "name": "python",
   "nbconvert_exporter": "python",
   "pygments_lexer": "ipython3",
   "version": "3.12.7"
  }
 },
 "nbformat": 4,
 "nbformat_minor": 5
}
