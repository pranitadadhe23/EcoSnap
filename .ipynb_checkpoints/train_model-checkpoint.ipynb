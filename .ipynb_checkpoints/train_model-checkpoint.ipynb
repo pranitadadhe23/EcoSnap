{
 "cells": [
  {
   "cell_type": "code",
   "execution_count": 1,
   "id": "e359e929-6447-4b7d-99ed-7b9b6c1b4ec7",
   "metadata": {},
   "outputs": [],
   "source": [
    "# train_model.ipynb\n",
    "\n",
    "# Step 1: Imports\n",
    "import tensorflow as tf\n",
    "from tensorflow.keras.applications.mobilenet_v2 import MobileNetV2, preprocess_input\n",
    "from tensorflow.keras.preprocessing.image import ImageDataGenerator\n",
    "from tensorflow.keras.models import Model\n",
    "from tensorflow.keras.layers import GlobalAveragePooling2D, Dense\n",
    "from tensorflow.keras.optimizers import Adam\n",
    "import os\n"
   ]
  },
  {
   "cell_type": "code",
   "execution_count": 3,
   "id": "d3d4e166-12ad-4f8c-8cfe-326e1b83f8ef",
   "metadata": {},
   "outputs": [],
   "source": [
    "# Step 2: Data Configuration\n",
    "img_size = (224, 224)\n",
    "batch_size = 16\n",
    "data_dir = \"dataset\""
   ]
  },
  {
   "cell_type": "code",
   "execution_count": 5,
   "id": "15217a86-c2c8-45cc-95fb-ebbd81530784",
   "metadata": {},
   "outputs": [
    {
     "name": "stdout",
     "output_type": "stream",
     "text": [
      "Found 8000 images belonging to 10 classes.\n",
      "Found 2000 images belonging to 10 classes.\n"
     ]
    }
   ],
   "source": [
    "# Step 3: Image Data Generator with Preprocessing\n",
    "datagen = ImageDataGenerator(\n",
    "    preprocessing_function=preprocess_input,\n",
    "    validation_split=0.2\n",
    ")\n",
    "\n",
    "train_gen = datagen.flow_from_directory(\n",
    "    data_dir,\n",
    "    target_size=img_size,\n",
    "    batch_size=batch_size,\n",
    "    class_mode=\"categorical\",\n",
    "    subset=\"training\"\n",
    ")\n",
    "\n",
    "val_gen = datagen.flow_from_directory(\n",
    "    data_dir,\n",
    "    target_size=img_size,\n",
    "    batch_size=batch_size,\n",
    "    class_mode=\"categorical\",\n",
    "    subset=\"validation\"\n",
    ")"
   ]
  },
  {
   "cell_type": "code",
   "execution_count": 7,
   "id": "cff4cb21-dcb4-4628-915e-d994f5596ade",
   "metadata": {},
   "outputs": [],
   "source": [
    "# Step 4: Load MobileNetV2 Base Model\n",
    "base_model = MobileNetV2(weights=\"imagenet\", include_top=False, input_shape=(224, 224, 3))\n"
   ]
  },
  {
   "cell_type": "code",
   "execution_count": 9,
   "id": "c39a5007-147f-40c4-a1ef-c31f0480b170",
   "metadata": {},
   "outputs": [],
   "source": [
    "# Step 5: Add Custom Layers\n",
    "x = base_model.output\n",
    "x = GlobalAveragePooling2D()(x)\n",
    "x = Dense(128, activation=\"relu\")(x)\n",
    "output = Dense(train_gen.num_classes, activation=\"softmax\")(x)\n",
    "model = Model(inputs=base_model.input, outputs=output)"
   ]
  },
  {
   "cell_type": "code",
   "execution_count": 11,
   "id": "7c96ab57-1511-46c4-adc3-539c08cddf4d",
   "metadata": {},
   "outputs": [],
   "source": [
    "# Step 6: Freeze base model\n",
    "for layer in base_model.layers:\n",
    "    layer.trainable = False\n"
   ]
  },
  {
   "cell_type": "code",
   "execution_count": 13,
   "id": "997f80b3-c435-4935-be78-77beea151e11",
   "metadata": {},
   "outputs": [],
   "source": [
    "# Step 7: Compile Model\n",
    "model.compile(optimizer=Adam(), loss=\"categorical_crossentropy\", metrics=[\"accuracy\"])\n"
   ]
  },
  {
   "cell_type": "code",
   "execution_count": 15,
   "id": "8516aece-8dfe-4458-883e-0a5ddbe5caee",
   "metadata": {},
   "outputs": [
    {
     "name": "stderr",
     "output_type": "stream",
     "text": [
      "C:\\Users\\ASUS\\anaconda3\\Lib\\site-packages\\keras\\src\\trainers\\data_adapters\\py_dataset_adapter.py:121: UserWarning: Your `PyDataset` class should call `super().__init__(**kwargs)` in its constructor. `**kwargs` can include `workers`, `use_multiprocessing`, `max_queue_size`. Do not pass these arguments to `fit()`, as they will be ignored.\n",
      "  self._warn_if_super_not_called()\n"
     ]
    },
    {
     "name": "stdout",
     "output_type": "stream",
     "text": [
      "Epoch 1/5\n",
      "\u001b[1m500/500\u001b[0m \u001b[32m━━━━━━━━━━━━━━━━━━━━\u001b[0m\u001b[37m\u001b[0m \u001b[1m307s\u001b[0m 602ms/step - accuracy: 0.7222 - loss: 0.8287 - val_accuracy: 0.8380 - val_loss: 0.5222\n",
      "Epoch 2/5\n",
      "\u001b[1m500/500\u001b[0m \u001b[32m━━━━━━━━━━━━━━━━━━━━\u001b[0m\u001b[37m\u001b[0m \u001b[1m296s\u001b[0m 592ms/step - accuracy: 0.8860 - loss: 0.3504 - val_accuracy: 0.8530 - val_loss: 0.4778\n",
      "Epoch 3/5\n",
      "\u001b[1m500/500\u001b[0m \u001b[32m━━━━━━━━━━━━━━━━━━━━\u001b[0m\u001b[37m\u001b[0m \u001b[1m293s\u001b[0m 586ms/step - accuracy: 0.9153 - loss: 0.2549 - val_accuracy: 0.8445 - val_loss: 0.5202\n",
      "Epoch 4/5\n",
      "\u001b[1m500/500\u001b[0m \u001b[32m━━━━━━━━━━━━━━━━━━━━\u001b[0m\u001b[37m\u001b[0m \u001b[1m298s\u001b[0m 596ms/step - accuracy: 0.9435 - loss: 0.1710 - val_accuracy: 0.8405 - val_loss: 0.5750\n",
      "Epoch 5/5\n",
      "\u001b[1m500/500\u001b[0m \u001b[32m━━━━━━━━━━━━━━━━━━━━\u001b[0m\u001b[37m\u001b[0m \u001b[1m285s\u001b[0m 569ms/step - accuracy: 0.9609 - loss: 0.1229 - val_accuracy: 0.8465 - val_loss: 0.5652\n"
     ]
    },
    {
     "data": {
      "text/plain": [
       "<keras.src.callbacks.history.History at 0x2b304ec42f0>"
      ]
     },
     "execution_count": 15,
     "metadata": {},
     "output_type": "execute_result"
    }
   ],
   "source": [
    "# Step 8: Train Model\n",
    "model.fit(train_gen, validation_data=val_gen, epochs=5)"
   ]
  },
  {
   "cell_type": "code",
   "execution_count": 17,
   "id": "29e42712-c71e-4a41-b5db-32c12a0ef90d",
   "metadata": {},
   "outputs": [
    {
     "name": "stderr",
     "output_type": "stream",
     "text": [
      "WARNING:absl:You are saving your model as an HDF5 file via `model.save()` or `keras.saving.save_model(model)`. This file format is considered legacy. We recommend using instead the native Keras format, e.g. `model.save('my_model.keras')` or `keras.saving.save_model(model, 'my_model.keras')`. \n"
     ]
    }
   ],
   "source": [
    "# Step 9: Save Model\n",
    "os.makedirs(\"model\", exist_ok=True)\n",
    "model.save(\"model/food_model.h5\")"
   ]
  },
  {
   "cell_type": "code",
   "execution_count": 19,
   "id": "c53b0f36-9d77-4054-9c3c-ab05c808ed31",
   "metadata": {},
   "outputs": [
    {
     "name": "stdout",
     "output_type": "stream",
     "text": [
      "✅ Training complete. Model and class names saved.\n"
     ]
    }
   ],
   "source": [
    "# Step 10: Save Class Names\n",
    "os.makedirs(\"data\", exist_ok=True)\n",
    "with open(\"data/class_names.txt\", \"w\") as f:\n",
    "    f.write(\"\\n\".join(train_gen.class_indices.keys()))\n",
    "\n",
    "print(\"✅ Training complete. Model and class names saved.\")"
   ]
  },
  {
   "cell_type": "code",
   "execution_count": null,
   "id": "90f31253-ebfb-44da-adc9-0b65c7e4706d",
   "metadata": {},
   "outputs": [],
   "source": []
  }
 ],
 "metadata": {
  "kernelspec": {
   "display_name": "Python [conda env:base] *",
   "language": "python",
   "name": "conda-base-py"
  },
  "language_info": {
   "codemirror_mode": {
    "name": "ipython",
    "version": 3
   },
   "file_extension": ".py",
   "mimetype": "text/x-python",
   "name": "python",
   "nbconvert_exporter": "python",
   "pygments_lexer": "ipython3",
   "version": "3.12.7"
  }
 },
 "nbformat": 4,
 "nbformat_minor": 5
}
